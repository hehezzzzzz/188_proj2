{
 "cells": [
  {
   "cell_type": "markdown",
   "metadata": {
    "id": "a-utSW-VUF2y"
   },
   "source": [
    "# Project 2- ECE 188, Spring 2022 - Deadline: June 10th, 2022. Please upload a link to your Github on Gradescope.\n",
    "# Train a Deep Learning model on the MNIST dataset and evaluate it on a test set.\n",
    "\n",
    "The first part in this notebook will take you though the training of the [MNIST Dataset](http://yann.lecun.com/exdb/mnist/) which is a collection of handwritten digits. \n",
    "\n",
    "We will build a Deep Learning based system that can recognise handwritten digits using [Keras](https://keras.io/) and [Tensorflow](https://www.tensorflow.org/). \n",
    "\n",
    "Note that the entire project will be done on a Google Colab. A tutorial to some basic colab instructions can be found [here](https://colab.research.google.com/?utm_source=scs-index#scrollTo=GJBs_flRovLc). \n",
    "\n",
    "Note that all the code needed is provided until Task 1, **you will only have to write code after the task 1 header**"
   ]
  },
  {
   "cell_type": "markdown",
   "metadata": {
    "id": "fgnHUBjoUTcy"
   },
   "source": [
    "## Import Necessary Packages\n",
    "\n",
    "We import Keras and Tensorflow to train our network and numpy to work with our data. \n",
    "\n",
    "We also import matplotlib to view our images. "
   ]
  },
  {
   "cell_type": "code",
   "execution_count": 3,
   "metadata": {
    "id": "aDvD8R1TbbOi"
   },
   "outputs": [],
   "source": [
    "import numpy as np\n",
    "import tensorflow as tf\n",
    "from tensorflow import keras\n",
    "from keras import layers\n"
   ]
  },
  {
   "cell_type": "code",
   "execution_count": 4,
   "metadata": {
    "id": "OdYVH66MUciD"
   },
   "outputs": [],
   "source": [
    "import matplotlib as mpl\n",
    "import matplotlib.pyplot as plt\n",
    "\n",
    "mpl.rcParams['figure.figsize'] = (8, 8)\n",
    "mpl.rcParams['axes.grid'] = False\n"
   ]
  },
  {
   "cell_type": "markdown",
   "metadata": {
    "id": "yuFHL78kUez_"
   },
   "source": [
    "# Load the Data\n",
    "\n",
    "We perform some data preprocessing. Feel free to skip over this and use the train and test data as x_train and x_test"
   ]
  },
  {
   "cell_type": "code",
   "execution_count": 5,
   "metadata": {
    "colab": {
     "base_uri": "https://localhost:8080/"
    },
    "id": "2iKGDDuDbhRM",
    "outputId": "185562b4-30de-4433-b96c-3ced773ab86b"
   },
   "outputs": [
    {
     "name": "stdout",
     "output_type": "stream",
     "text": [
      "Downloading data from https://storage.googleapis.com/tensorflow/tf-keras-datasets/mnist.npz\n",
      "11493376/11490434 [==============================] - 0s 0us/step\n",
      "11501568/11490434 [==============================] - 0s 0us/step\n",
      "x_train shape: (60000, 28, 28, 1)\n",
      "60000 train samples\n",
      "10000 test samples\n"
     ]
    }
   ],
   "source": [
    "# Model / data parameters\n",
    "num_classes = 10\n",
    "input_shape = (28, 28, 1)\n",
    "\n",
    "# the data, split between train and test sets\n",
    "(x_train, y_train), (x_test, y_test) = keras.datasets.mnist.load_data()\n",
    "\n",
    "# Scale images to the [0, 1] range\n",
    "x_train = x_train.astype(\"float32\") / 255\n",
    "x_test = x_test.astype(\"float32\") / 255\n",
    "# Make sure images have shape (28, 28, 1)\n",
    "x_train = np.expand_dims(x_train, -1)\n",
    "x_test = np.expand_dims(x_test, -1)\n",
    "print(\"x_train shape:\", x_train.shape)\n",
    "print(x_train.shape[0], \"train samples\")\n",
    "print(x_test.shape[0], \"test samples\")\n",
    "\n",
    "\n",
    "# convert class vectors to binary class matrices\n",
    "y_train = keras.utils.to_categorical(y_train, num_classes)\n",
    "y_test = keras.utils.to_categorical(y_test, num_classes)\n"
   ]
  },
  {
   "cell_type": "markdown",
   "metadata": {
    "id": "tEDsgxIcuv0B"
   },
   "source": [
    "## Define a model in keras.\n",
    "\n",
    "\n",
    " We define a simple simple network with 2 hidden layers. One fully connected dense layer with 8 neurons and onr flatten layer that flattens the model into 1D structure which is then fed into a softmax output.\n",
    "\n",
    "This is a barebones keras structure. In task 1 you will be tasked with improving this model. "
   ]
  },
  {
   "cell_type": "code",
   "execution_count": 6,
   "metadata": {
    "colab": {
     "base_uri": "https://localhost:8080/"
    },
    "id": "Kb3ONTl8Odrq",
    "outputId": "49b81c72-0b76-4bb0-d047-c6b86dcc144b"
   },
   "outputs": [
    {
     "name": "stdout",
     "output_type": "stream",
     "text": [
      "Model: \"sequential\"\n",
      "_________________________________________________________________\n",
      " Layer (type)                Output Shape              Param #   \n",
      "=================================================================\n",
      " dense (Dense)               (None, 28, 28, 8)         16        \n",
      "                                                                 \n",
      " flatten (Flatten)           (None, 6272)              0         \n",
      "                                                                 \n",
      " dense_1 (Dense)             (None, 10)                62730     \n",
      "                                                                 \n",
      "=================================================================\n",
      "Total params: 62,746\n",
      "Trainable params: 62,746\n",
      "Non-trainable params: 0\n",
      "_________________________________________________________________\n"
     ]
    }
   ],
   "source": [
    "model = keras.Sequential(\n",
    "    [\n",
    "        keras.Input(shape=input_shape),\n",
    "        layers.Dense(8,activation=\"relu\"),\n",
    "        layers.Flatten(),\n",
    "        layers.Dense(num_classes, activation=\"softmax\"),\n",
    "    ]\n",
    ")\n",
    "\n",
    "model.summary()\n"
   ]
  },
  {
   "cell_type": "markdown",
   "metadata": {
    "id": "7qepS8u7VJXF"
   },
   "source": [
    "## Compile and train the model \n",
    "\n",
    "We know train our model. Before we do that we need to set some parameters to train the model. Hence we define the loss and optimizer to be used as well as batch size. The number of epochs refers to the number of training iterations. "
   ]
  },
  {
   "cell_type": "code",
   "execution_count": 7,
   "metadata": {
    "colab": {
     "base_uri": "https://localhost:8080/"
    },
    "id": "3cwCRnA2OgPY",
    "outputId": "424c6423-d7f2-4029-e3e5-271ef97de685"
   },
   "outputs": [
    {
     "name": "stdout",
     "output_type": "stream",
     "text": [
      "Epoch 1/15\n",
      "422/422 [==============================] - 4s 4ms/step - loss: 0.4901 - accuracy: 0.8721 - val_loss: 0.2631 - val_accuracy: 0.9247\n",
      "Epoch 2/15\n",
      "422/422 [==============================] - 1s 3ms/step - loss: 0.3005 - accuracy: 0.9150 - val_loss: 0.2375 - val_accuracy: 0.9322\n",
      "Epoch 3/15\n",
      "422/422 [==============================] - 1s 3ms/step - loss: 0.2843 - accuracy: 0.9197 - val_loss: 0.2305 - val_accuracy: 0.9362\n",
      "Epoch 4/15\n",
      "422/422 [==============================] - 1s 4ms/step - loss: 0.2740 - accuracy: 0.9230 - val_loss: 0.2281 - val_accuracy: 0.9380\n",
      "Epoch 5/15\n",
      "422/422 [==============================] - 1s 3ms/step - loss: 0.2691 - accuracy: 0.9245 - val_loss: 0.2251 - val_accuracy: 0.9392\n",
      "Epoch 6/15\n",
      "422/422 [==============================] - 1s 3ms/step - loss: 0.2648 - accuracy: 0.9257 - val_loss: 0.2302 - val_accuracy: 0.9390\n",
      "Epoch 7/15\n",
      "422/422 [==============================] - 1s 3ms/step - loss: 0.2620 - accuracy: 0.9268 - val_loss: 0.2356 - val_accuracy: 0.9333\n",
      "Epoch 8/15\n",
      "422/422 [==============================] - 1s 3ms/step - loss: 0.2594 - accuracy: 0.9282 - val_loss: 0.2339 - val_accuracy: 0.9352\n",
      "Epoch 9/15\n",
      "422/422 [==============================] - 2s 4ms/step - loss: 0.2570 - accuracy: 0.9279 - val_loss: 0.2295 - val_accuracy: 0.9357\n",
      "Epoch 10/15\n",
      "422/422 [==============================] - 2s 5ms/step - loss: 0.2546 - accuracy: 0.9293 - val_loss: 0.2328 - val_accuracy: 0.9363\n",
      "Epoch 11/15\n",
      "422/422 [==============================] - 1s 3ms/step - loss: 0.2538 - accuracy: 0.9298 - val_loss: 0.2262 - val_accuracy: 0.9378\n",
      "Epoch 12/15\n",
      "422/422 [==============================] - 1s 3ms/step - loss: 0.2514 - accuracy: 0.9303 - val_loss: 0.2294 - val_accuracy: 0.9367\n",
      "Epoch 13/15\n",
      "422/422 [==============================] - 2s 4ms/step - loss: 0.2504 - accuracy: 0.9300 - val_loss: 0.2297 - val_accuracy: 0.9375\n",
      "Epoch 14/15\n",
      "422/422 [==============================] - 1s 4ms/step - loss: 0.2482 - accuracy: 0.9309 - val_loss: 0.2262 - val_accuracy: 0.9375\n",
      "Epoch 15/15\n",
      "422/422 [==============================] - 1s 4ms/step - loss: 0.2480 - accuracy: 0.9298 - val_loss: 0.2335 - val_accuracy: 0.9372\n"
     ]
    },
    {
     "data": {
      "text/plain": [
       "<keras.callbacks.History at 0x7f96606e27d0>"
      ]
     },
     "execution_count": 7,
     "metadata": {},
     "output_type": "execute_result"
    }
   ],
   "source": [
    "batch_size = 128\n",
    "epochs = 15\n",
    "\n",
    "model.compile(loss=\"categorical_crossentropy\", optimizer=\"adam\", metrics=[\"accuracy\"])\n",
    "\n",
    "model.fit(x_train, y_train, batch_size=batch_size, epochs=epochs, validation_split=0.1)\n"
   ]
  },
  {
   "cell_type": "markdown",
   "metadata": {
    "id": "2IscBu-nVLw3"
   },
   "source": [
    "## Evaluate the model "
   ]
  },
  {
   "cell_type": "code",
   "execution_count": 8,
   "metadata": {
    "colab": {
     "base_uri": "https://localhost:8080/"
    },
    "id": "SCRqjgb_OiN7",
    "outputId": "9c2010a2-bfce-4da5-e2ae-c3fa807bb12b"
   },
   "outputs": [
    {
     "name": "stdout",
     "output_type": "stream",
     "text": [
      "Test loss: 0.2814309000968933\n",
      "Test accuracy: 0.9225999712944031\n"
     ]
    }
   ],
   "source": [
    "score = model.evaluate(x_test, y_test, verbose=0)\n",
    "print(\"Test loss:\", score[0])\n",
    "print(\"Test accuracy:\", score[1])\n"
   ]
  },
  {
   "cell_type": "markdown",
   "metadata": {
    "id": "nSdY-BY5vKZb"
   },
   "source": [
    "We achieve an accuracy on the test set of 92% but can we do better?"
   ]
  },
  {
   "cell_type": "markdown",
   "metadata": {
    "id": "y9a6QtAJ4Xby"
   },
   "source": [
    "## Looking at a prediction.\n",
    "\n",
    "Lets look at the prediction for a particular image in our model. We will look at one corect and one incorrect prediction and see if we can improve on the incorrect prediction. "
   ]
  },
  {
   "cell_type": "code",
   "execution_count": 9,
   "metadata": {
    "id": "g3uyTJ6253Jv"
   },
   "outputs": [],
   "source": [
    "def get_mnist_label(image_probs):\n",
    "\n",
    "  return np.argmax(image_probs), np.max(image_probs)"
   ]
  },
  {
   "cell_type": "code",
   "execution_count": 10,
   "metadata": {
    "id": "sZP5HsZO5OyY"
   },
   "outputs": [],
   "source": [
    "preds = model.predict(x_test)\n",
    "\n",
    "image = x_test[0].reshape(input_shape[0], input_shape[1])\n",
    "label = np.argmax(y_test[0])\n",
    "image_probs = preds[0]"
   ]
  },
  {
   "cell_type": "code",
   "execution_count": 11,
   "metadata": {
    "colab": {
     "base_uri": "https://localhost:8080/",
     "height": 499
    },
    "id": "AdIoM5GX5ygg",
    "outputId": "a3bda64d-56a0-4f65-9a3d-e96be23497a5"
   },
   "outputs": [
    {
     "data": {
      "image/png": "[encoded data removed]",
      "text/plain": [
       "<Figure size 576x576 with 1 Axes>"
      ]
     },
     "metadata": {
      "needs_background": "light"
     },
     "output_type": "display_data"
    }
   ],
   "source": [
    "plt.figure()\n",
    "plt.imshow(image*0.5 + 0.5)  # To change [-1, 1] to [0,1]\n",
    "image_class, class_confidence = get_mnist_label(image_probs)\n",
    "plt.title('{} : {:.2f}% Confidence'.format(image_class, class_confidence*100))\n",
    "plt.show()\n"
   ]
  },
  {
   "cell_type": "code",
   "execution_count": 12,
   "metadata": {
    "id": "qmmsBM_E6DUc"
   },
   "outputs": [],
   "source": [
    "# Store the incorrect prediction index here\n",
    "incorrect_index = 0\n",
    "\n",
    "for i in range(preds.shape[0]):\n",
    "\n",
    "  if np.argmax(preds[i]) != np.argmax(y_test[i]):\n",
    "\n",
    "    incorrect_index = i\n",
    "\n",
    "image_incorrect = x_test[incorrect_index].reshape(input_shape[0], input_shape[1])"
   ]
  },
  {
   "cell_type": "code",
   "execution_count": 13,
   "metadata": {
    "colab": {
     "base_uri": "https://localhost:8080/",
     "height": 499
    },
    "id": "HKsiOalv7Bsj",
    "outputId": "3c6be55f-59d7-4343-f3bc-8eac9323976f"
   },
   "outputs": [
    {
     "data": {
      "image/png": "[encoded data removed]",
      "text/plain": [
       "<Figure size 576x576 with 1 Axes>"
      ]
     },
     "metadata": {
      "needs_background": "light"
     },
     "output_type": "display_data"
    }
   ],
   "source": [
    "plt.figure()\n",
    "plt.imshow(image_incorrect*0.5 + 0.5)  # To change [-1, 1] to [0,1]\n",
    "image_class, class_confidence = get_mnist_label(preds[i])\n",
    "plt.title('{} : {:.2f}% Confidence'.format(image_class, class_confidence*100))\n",
    "plt.show()\n"
   ]
  },
  {
   "cell_type": "markdown",
   "metadata": {
    "id": "VfSIJAF57dhy"
   },
   "source": [
    "We see that a 3 has been predicted with high confidence as a 6 does this change with our improved model below?"
   ]
  },
  {
   "cell_type": "markdown",
   "metadata": {
    "id": "LifPv5WJvSMu"
   },
   "source": [
    " # TASK 1: Improve the accuracy of the model \n",
    "\n",
    "Your goal in task one is to improve the accuracy of the model on the test set. "
   ]
  },
  {
   "cell_type": "markdown",
   "metadata": {
    "id": "nq8pen8-wdsh"
   },
   "source": [
    "For image recogniton tasks convolutional neural networks work better than most other type of architectures. Your goal is to push the test accuracy above 99% percent. \n",
    "\n",
    "The following steps will get you there. \n",
    "\n",
    "1. Convert the 1st hidden Dense layer to a conv layer with 32 filters, a filter size of 3x3 and with relu activation. (I've done this step)\n",
    "2. Add a Maxpooling layer of size 2x2. \n",
    "3. Add another Conv layer with 64 filters, with a filter size of 3x3 with relu activation. \n",
    "4. Add a Maxpooling layer of size 2x2. \n",
    "5. Add Dropout to the layer after the Flatten layer. "
   ]
  },
  {
   "cell_type": "code",
   "execution_count": 17,
   "metadata": {
    "colab": {
     "base_uri": "https://localhost:8080/"
    },
    "id": "LeDUJgK2wb4l",
    "outputId": "9117a6ed-04ea-4cac-95a8-e500eefa26ff"
   },
   "outputs": [
    {
     "name": "stdout",
     "output_type": "stream",
     "text": [
      "Model: \"sequential_3\"\n",
      "_________________________________________________________________\n",
      " Layer (type)                Output Shape              Param #   \n",
      "=================================================================\n",
      " conv2d_5 (Conv2D)           (None, 26, 26, 32)        320       \n",
      "                                                                 \n",
      " max_pooling2d_4 (MaxPooling  (None, 13, 13, 32)       0         \n",
      " 2D)                                                             \n",
      "                                                                 \n",
      " conv2d_6 (Conv2D)           (None, 11, 11, 64)        18496     \n",
      "                                                                 \n",
      " max_pooling2d_5 (MaxPooling  (None, 5, 5, 64)         0         \n",
      " 2D)                                                             \n",
      "                                                                 \n",
      " flatten_3 (Flatten)         (None, 1600)              0         \n",
      "                                                                 \n",
      " dropout_2 (Dropout)         (None, 1600)              0         \n",
      "                                                                 \n",
      " dense_4 (Dense)             (None, 10)                16010     \n",
      "                                                                 \n",
      "=================================================================\n",
      "Total params: 34,826\n",
      "Trainable params: 34,826\n",
      "Non-trainable params: 0\n",
      "_________________________________________________________________\n"
     ]
    }
   ],
   "source": [
    "improved_model = keras.Sequential(\n",
    "    [\n",
    "        keras.Input(shape=input_shape),\n",
    "        layers.Conv2D(32, kernel_size=(3, 3), activation=\"relu\"),\n",
    "        # Add Maxpooling layer here\n",
    "        layers.pooling.MaxPooling2D(pool_size=(2, 2), strides=None),\n",
    "        # Add Conv2d layer here\n",
    "        layers.Conv2D(64, kernel_size=(3, 3), activation=\"relu\"),\n",
    "        # 4\n",
    "        layers.pooling.MaxPooling2D(pool_size=(2, 2), strides=None),\n",
    "        layers.Flatten(),\n",
    "        # Add dropout of 0.5 here\n",
    "        layers.Dropout(0.5),\n",
    "        layers.Dense(num_classes, activation=\"softmax\"),\n",
    "    ]\n",
    ")\n",
    "\n",
    "improved_model.summary()\n"
   ]
  },
  {
   "cell_type": "markdown",
   "metadata": {
    "id": "ffzFzyOZ0UG8"
   },
   "source": [
    "## Complile and train the improved model. "
   ]
  },
  {
   "cell_type": "code",
   "execution_count": 18,
   "metadata": {
    "colab": {
     "base_uri": "https://localhost:8080/"
    },
    "id": "aPBhYQml1OuH",
    "outputId": "ef112fdd-7b54-4367-d7b0-755ee624e84f"
   },
   "outputs": [
    {
     "name": "stdout",
     "output_type": "stream",
     "text": [
      "Epoch 1/15\n",
      "422/422 [==============================] - 11s 6ms/step - loss: 0.3744 - accuracy: 0.8858 - val_loss: 0.0851 - val_accuracy: 0.9770\n",
      "Epoch 2/15\n",
      "422/422 [==============================] - 2s 5ms/step - loss: 0.1141 - accuracy: 0.9658 - val_loss: 0.0560 - val_accuracy: 0.9857\n",
      "Epoch 3/15\n",
      "422/422 [==============================] - 2s 5ms/step - loss: 0.0842 - accuracy: 0.9744 - val_loss: 0.0478 - val_accuracy: 0.9872\n",
      "Epoch 4/15\n",
      "422/422 [==============================] - 2s 5ms/step - loss: 0.0687 - accuracy: 0.9787 - val_loss: 0.0426 - val_accuracy: 0.9882\n",
      "Epoch 5/15\n",
      "422/422 [==============================] - 2s 5ms/step - loss: 0.0614 - accuracy: 0.9815 - val_loss: 0.0371 - val_accuracy: 0.9893\n",
      "Epoch 6/15\n",
      "422/422 [==============================] - 2s 5ms/step - loss: 0.0565 - accuracy: 0.9822 - val_loss: 0.0344 - val_accuracy: 0.9900\n",
      "Epoch 7/15\n",
      "422/422 [==============================] - 2s 5ms/step - loss: 0.0514 - accuracy: 0.9837 - val_loss: 0.0347 - val_accuracy: 0.9907\n",
      "Epoch 8/15\n",
      "422/422 [==============================] - 2s 5ms/step - loss: 0.0472 - accuracy: 0.9852 - val_loss: 0.0338 - val_accuracy: 0.9912\n",
      "Epoch 9/15\n",
      "422/422 [==============================] - 2s 5ms/step - loss: 0.0453 - accuracy: 0.9851 - val_loss: 0.0337 - val_accuracy: 0.9908\n",
      "Epoch 10/15\n",
      "422/422 [==============================] - 2s 5ms/step - loss: 0.0403 - accuracy: 0.9872 - val_loss: 0.0312 - val_accuracy: 0.9897\n",
      "Epoch 11/15\n",
      "422/422 [==============================] - 2s 5ms/step - loss: 0.0399 - accuracy: 0.9874 - val_loss: 0.0303 - val_accuracy: 0.9918\n",
      "Epoch 12/15\n",
      "422/422 [==============================] - 2s 5ms/step - loss: 0.0371 - accuracy: 0.9887 - val_loss: 0.0286 - val_accuracy: 0.9913\n",
      "Epoch 13/15\n",
      "422/422 [==============================] - 2s 5ms/step - loss: 0.0366 - accuracy: 0.9883 - val_loss: 0.0287 - val_accuracy: 0.9917\n",
      "Epoch 14/15\n",
      "422/422 [==============================] - 2s 5ms/step - loss: 0.0349 - accuracy: 0.9881 - val_loss: 0.0273 - val_accuracy: 0.9928\n",
      "Epoch 15/15\n",
      "422/422 [==============================] - 2s 5ms/step - loss: 0.0322 - accuracy: 0.9899 - val_loss: 0.0281 - val_accuracy: 0.9930\n"
     ]
    },
    {
     "data": {
      "text/plain": [
       "<keras.callbacks.History at 0x7f9660383190>"
      ]
     },
     "execution_count": 18,
     "metadata": {},
     "output_type": "execute_result"
    }
   ],
   "source": [
    "batch_size = 128\n",
    "epochs = 15\n",
    "\n",
    "improved_model.compile(loss=\"categorical_crossentropy\", optimizer=\"adam\", metrics=[\"accuracy\"])\n",
    "\n",
    "improved_model.fit(x_train, y_train, batch_size=batch_size, epochs=epochs, validation_split=0.1)\n"
   ]
  },
  {
   "cell_type": "markdown",
   "metadata": {
    "id": "7a7EZNcv1r9J"
   },
   "source": [
    "## Evaluate the Improved model. \n",
    "\n",
    "You should achieve a test accuracy of greater than 99%!\n",
    "\n",
    "If not the code will throw an assertion error. "
   ]
  },
  {
   "cell_type": "code",
   "execution_count": 19,
   "metadata": {
    "colab": {
     "base_uri": "https://localhost:8080/"
    },
    "id": "lYKx0TKH2P6G",
    "outputId": "079adeb9-d208-4d59-f01b-e67f166f89ca"
   },
   "outputs": [
    {
     "name": "stdout",
     "output_type": "stream",
     "text": [
      "Improved Test loss: 0.02534542605280876\n",
      "Improved Test accuracy: 0.9909999966621399\n"
     ]
    }
   ],
   "source": [
    "score = improved_model.evaluate(x_test, y_test, verbose=0)\n",
    "print(\"Improved Test loss:\", score[0])\n",
    "print(\"Improved Test accuracy:\", score[1])\n",
    "\n",
    "assert score[1] > 0.99"
   ]
  },
  {
   "cell_type": "markdown",
   "metadata": {
    "id": "aD885MO57xoV"
   },
   "source": [
    "## Looking at a prediction.\n",
    "\n",
    "Lets look at the prediction for a particular image in our model. We will look at one corect and one incorrect prediction and see if we can improve on the incorrect prediction. \n",
    "\n",
    "Check the predictions on the improved model, do you see improvements on the incorrect sample. "
   ]
  },
  {
   "cell_type": "code",
   "execution_count": 20,
   "metadata": {
    "id": "0ozaLxNg7xoW"
   },
   "outputs": [],
   "source": [
    "improved_preds = improved_model.predict(x_test)\n",
    "\n",
    "image = x_test[0].reshape(input_shape[0], input_shape[1])\n",
    "label = np.argmax(y_test[0])\n"
   ]
  },
  {
   "cell_type": "code",
   "execution_count": 21,
   "metadata": {
    "colab": {
     "base_uri": "https://localhost:8080/",
     "height": 499
    },
    "id": "y0qsS5jY7xoW",
    "outputId": "d569282b-0a57-4750-990b-53cd283ae373"
   },
   "outputs": [
    {
     "data": {
      "image/png": "[encoded data removed]",
      "text/plain": [
       "<Figure size 576x576 with 1 Axes>"
      ]
     },
     "metadata": {
      "needs_background": "light"
     },
     "output_type": "display_data"
    }
   ],
   "source": [
    "plt.figure()\n",
    "plt.imshow(image*0.5 + 0.5)  # To change [-1, 1] to [0,1]\n",
    "image_class, class_confidence = get_mnist_label(improved_preds[0])\n",
    "plt.title('{} : {:.2f}% Confidence'.format(image_class, class_confidence*100))\n",
    "plt.show()\n"
   ]
  },
  {
   "cell_type": "code",
   "execution_count": 22,
   "metadata": {
    "colab": {
     "base_uri": "https://localhost:8080/",
     "height": 499
    },
    "id": "Dyj5CbQD7xoW",
    "outputId": "ff6a217b-0a4d-4072-cbac-602cac1ab142"
   },
   "outputs": [
    {
     "data": {
      "image/png": "[encoded data removed]",
      "text/plain": [
       "<Figure size 576x576 with 1 Axes>"
      ]
     },
     "metadata": {
      "needs_background": "light"
     },
     "output_type": "display_data"
    }
   ],
   "source": [
    "plt.figure()\n",
    "plt.imshow(image_incorrect*0.5 + 0.5)  # To change [-1, 1] to [0,1]\n",
    "image_class, class_confidence = get_mnist_label(improved_preds[i])\n",
    "plt.title('{} : {:.2f}% Confidence'.format(image_class, class_confidence*100))\n",
    "plt.show()\n"
   ]
  },
  {
   "cell_type": "markdown",
   "metadata": {
    "id": "FJ3foj9CXnMn"
   },
   "source": [
    "Prediction is improved on the correct sample but not the incorrect sample."
   ]
  }
 ],
 "metadata": {
  "accelerator": "GPU",
  "colab": {
   "collapsed_sections": [],
   "name": "MNIST_Train_Task1.ipynb",
   "provenance": [],
   "toc_visible": true
  },
  "kernelspec": {
   "display_name": "Python 3 (ipykernel)",
   "language": "python",
   "name": "python3"
  },
  "language_info": {
   "codemirror_mode": {
    "name": "ipython",
    "version": 3
   },
   "file_extension": ".py",
   "mimetype": "text/x-python",
   "name": "python",
   "nbconvert_exporter": "python",
   "pygments_lexer": "ipython3",
   "version": "3.9.12"
  }
 },
 "nbformat": 4,
 "nbformat_minor": 1
}
